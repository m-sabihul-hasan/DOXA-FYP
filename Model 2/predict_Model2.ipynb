{
 "cells": [
  {
   "cell_type": "code",
   "execution_count": 13,
   "metadata": {},
   "outputs": [],
   "source": [
    "import pandas as pd\n",
    "import numpy as np\n",
    "import tensorflow as tf\n",
    "from keras.models import load_model\n",
    "import ast\n",
    "pd.set_option(\"display.max_rows\", 500, \"display.max_columns\", 500)"
   ]
  },
  {
   "cell_type": "code",
   "execution_count": 14,
   "metadata": {},
   "outputs": [],
   "source": [
    "traits = [\"Openness\", \"Agreeableness\", \"Persistence\", \"Cooperativeness\", \"Openness to Experience\", \"Adjustment\", \"Ambition\", \"Learning Approach\"]\n",
    "\n",
    "f = open(\"CorrelatedQs.txt\", \"r\")\n",
    "questions_dict = f.readline()\n",
    "questions_dict = ast.literal_eval(questions_dict)\n",
    "\n",
    "# tp = pd.read_excel('temp.xlsx')\n",
    "# tp = pd.read_csv('questions.csv')"
   ]
  },
  {
   "cell_type": "code",
   "execution_count": 15,
   "metadata": {},
   "outputs": [
    {
     "data": {
      "text/plain": [
       "array([[44.89287 ],\n",
       "       [45.74052 ],\n",
       "       [83.39206 ],\n",
       "       ...,\n",
       "       [80.5985  ],\n",
       "       [75.46759 ],\n",
       "       [78.954445]], dtype=float32)"
      ]
     },
     "execution_count": 15,
     "metadata": {},
     "output_type": "execute_result"
    }
   ],
   "source": [
    "trait = \"Openness\"\n",
    "\n",
    "model_Openness = tf.keras.models.load_model(trait + '.h5')\n",
    "\n",
    "selected_df = tp[questions_dict[trait]]\n",
    "x = selected_df.to_numpy()\n",
    "\n",
    "y_pred_Openness = model_Openness.predict(x)\n",
    "\n",
    "y_pred_Openness"
   ]
  },
  {
   "cell_type": "code",
   "execution_count": 16,
   "metadata": {},
   "outputs": [
    {
     "data": {
      "text/plain": [
       "array([[51.041485],\n",
       "       [42.816784],\n",
       "       [67.36463 ],\n",
       "       ...,\n",
       "       [72.66756 ],\n",
       "       [57.751503],\n",
       "       [65.707726]], dtype=float32)"
      ]
     },
     "execution_count": 16,
     "metadata": {},
     "output_type": "execute_result"
    }
   ],
   "source": [
    "trait = \"Cooperativeness\"\n",
    "\n",
    "model_Cooperativeness = tf.keras.models.load_model(trait + '.h5')\n",
    "\n",
    "selected_df = tp[questions_dict[trait]]\n",
    "x = selected_df.to_numpy()\n",
    "\n",
    "y_pred_Cooperativeness = model_Cooperativeness.predict(x)\n",
    "\n",
    "y_pred_Cooperativeness"
   ]
  },
  {
   "cell_type": "code",
   "execution_count": 17,
   "metadata": {},
   "outputs": [
    {
     "data": {
      "text/plain": [
       "array([[51.927998],\n",
       "       [73.865036],\n",
       "       [ 9.673351],\n",
       "       ...,\n",
       "       [33.75616 ],\n",
       "       [38.5367  ],\n",
       "       [47.359154]], dtype=float32)"
      ]
     },
     "execution_count": 17,
     "metadata": {},
     "output_type": "execute_result"
    }
   ],
   "source": [
    "trait = \"Adjustment\"\n",
    "\n",
    "model_Adjustment = tf.keras.models.load_model(trait + '.h5')\n",
    "\n",
    "selected_df = tp[questions_dict[trait]]\n",
    "x = selected_df.to_numpy()\n",
    "\n",
    "y_pred_Adjustment = model_Adjustment.predict(x)\n",
    "\n",
    "y_pred_Adjustment"
   ]
  },
  {
   "cell_type": "code",
   "execution_count": 18,
   "metadata": {},
   "outputs": [
    {
     "data": {
      "text/plain": [
       "array([[30.730446],\n",
       "       [43.251717],\n",
       "       [59.27708 ],\n",
       "       ...,\n",
       "       [61.727123],\n",
       "       [49.61645 ],\n",
       "       [74.18386 ]], dtype=float32)"
      ]
     },
     "execution_count": 18,
     "metadata": {},
     "output_type": "execute_result"
    }
   ],
   "source": [
    "trait = \"Persistence\"\n",
    "\n",
    "model_Persistence = tf.keras.models.load_model(trait + '.h5')\n",
    "\n",
    "selected_df = tp[questions_dict[trait]]\n",
    "x = selected_df.to_numpy()\n",
    "\n",
    "y_pred_Persistence = model_Persistence.predict(x)\n",
    "\n",
    "y_pred_Persistence"
   ]
  },
  {
   "cell_type": "code",
   "execution_count": 19,
   "metadata": {},
   "outputs": [
    {
     "data": {
      "text/plain": [
       "array([[69.3545 ],\n",
       "       [53.76764],\n",
       "       [50.40706],\n",
       "       ...,\n",
       "       [75.01481],\n",
       "       [68.10154],\n",
       "       [80.94595]], dtype=float32)"
      ]
     },
     "execution_count": 19,
     "metadata": {},
     "output_type": "execute_result"
    }
   ],
   "source": [
    "trait = \"Agreeableness\"\n",
    "\n",
    "model_Agreeableness = tf.keras.models.load_model(trait + '.h5')\n",
    "\n",
    "selected_df = tp[questions_dict[trait]]\n",
    "x = selected_df.to_numpy()\n",
    "\n",
    "y_pred_Agreeableness = model_Agreeableness.predict(x)\n",
    "\n",
    "y_pred_Agreeableness"
   ]
  },
  {
   "cell_type": "code",
   "execution_count": 20,
   "metadata": {},
   "outputs": [
    {
     "data": {
      "text/plain": [
       "array([[23.950096],\n",
       "       [65.04518 ],\n",
       "       [33.58826 ],\n",
       "       ...,\n",
       "       [59.561714],\n",
       "       [16.902847],\n",
       "       [49.255863]], dtype=float32)"
      ]
     },
     "execution_count": 20,
     "metadata": {},
     "output_type": "execute_result"
    }
   ],
   "source": [
    "trait = \"Ambition\"\n",
    "\n",
    "model_Ambition = tf.keras.models.load_model(trait + '.h5')\n",
    "\n",
    "selected_df = tp[questions_dict[trait]]\n",
    "x = selected_df.to_numpy()\n",
    "\n",
    "y_pred_Ambition = model_Ambition.predict(x)\n",
    "\n",
    "y_pred_Ambition"
   ]
  },
  {
   "cell_type": "code",
   "execution_count": 21,
   "metadata": {},
   "outputs": [
    {
     "data": {
      "text/plain": [
       "array([[39.372787],\n",
       "       [44.625725],\n",
       "       [87.0917  ],\n",
       "       ...,\n",
       "       [82.710785],\n",
       "       [60.554653],\n",
       "       [74.92161 ]], dtype=float32)"
      ]
     },
     "execution_count": 21,
     "metadata": {},
     "output_type": "execute_result"
    }
   ],
   "source": [
    "trait = \"Openness to Experience\"\n",
    "\n",
    "model_Openness_to_Experience = tf.keras.models.load_model(trait + '.h5')\n",
    "\n",
    "selected_df = tp[questions_dict[trait]]\n",
    "x = selected_df.to_numpy()\n",
    "\n",
    "y_pred_Openness_to_Experience = model_Openness_to_Experience.predict(x)\n",
    "\n",
    "y_pred_Openness_to_Experience"
   ]
  },
  {
   "cell_type": "code",
   "execution_count": 22,
   "metadata": {},
   "outputs": [
    {
     "data": {
      "text/plain": [
       "array([[ 7.096819],\n",
       "       [56.702484],\n",
       "       [58.828323],\n",
       "       ...,\n",
       "       [81.018105],\n",
       "       [59.334755],\n",
       "       [57.466675]], dtype=float32)"
      ]
     },
     "execution_count": 22,
     "metadata": {},
     "output_type": "execute_result"
    }
   ],
   "source": [
    "trait = \"Learning Approach\"\n",
    "\n",
    "model_Learning_Approach = tf.keras.models.load_model(trait + '.h5')\n",
    "\n",
    "selected_df = tp[questions_dict[trait]]\n",
    "x = selected_df.to_numpy()\n",
    "\n",
    "y_pred_Learning_Approach = model_Learning_Approach.predict(x)\n",
    "\n",
    "y_pred_Learning_Approach"
   ]
  }
 ],
 "metadata": {
  "interpreter": {
   "hash": "96a5b2c8615b6af4330dccc0a175f9e1be44a5aebebe076415aefa8805d772c0"
  },
  "kernelspec": {
   "display_name": "Python 3.8.8 64-bit ('base': conda)",
   "language": "python",
   "name": "python3"
  },
  "language_info": {
   "codemirror_mode": {
    "name": "ipython",
    "version": 3
   },
   "file_extension": ".py",
   "mimetype": "text/x-python",
   "name": "python",
   "nbconvert_exporter": "python",
   "pygments_lexer": "ipython3",
   "version": "3.8.4"
  },
  "orig_nbformat": 4
 },
 "nbformat": 4,
 "nbformat_minor": 2
}
