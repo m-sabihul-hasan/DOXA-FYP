{
 "cells": [
  {
   "cell_type": "code",
   "execution_count": 1,
   "metadata": {},
   "outputs": [],
   "source": [
    "import pandas as pd\n",
    "import numpy as np\n",
    "import tensorflow as tf\n",
    "from keras.models import load_model\n",
    "pd.set_option(\"display.max_rows\", 500, \"display.max_columns\", 500)"
   ]
  },
  {
   "cell_type": "code",
   "execution_count": 2,
   "metadata": {},
   "outputs": [],
   "source": [
    "traits = [\"Openness\", \"Agreeableness\", \"Persistence\", \"Cooperativeness\", \"Openness to Experience\", \"Adjustment\", \"Ambition\", \"Learning Approach\"]\n",
    "questions_dict = {'Openness': ['Q7A', 'Q19A', 'Q26A', 'Q27A', 'Q59A', 'Q75A', 'Q76A', 'Q84A', 'Q94A', 'Q100A', 'Q115A', 'Q138A', 'Q139A', 'Q150A', 'Q153A', 'Q161A'], 'Agreeableness': ['Q8A', 'Q9A', 'Q11A', 'Q12A', 'Q16A', 'Q19A', 'Q23A', 'Q24A', 'Q32A', 'Q34A', 'Q40A', 'Q46A', 'Q50A', 'Q51A', 'Q52A', 'Q62A', 'Q65A', 'Q77A', 'Q80A', 'Q86A', 'Q87A', 'Q97A', 'Q104A', 'Q111A', 'Q118A', 'Q119A', 'Q123A', 'Q129A', 'Q130A', 'Q172A', 'Q181A'], 'Persistence': ['Q4A', 'Q5A', 'Q13A', 'Q14A', 'Q22A', 'Q25A', 'Q31A', 'Q48A', 'Q81A', 'Q101A', 'Q110A', 'Q116A', 'Q137A', 'Q141A', 'Q144A', 'Q145A', 'Q152A', 'Q167A'], 'Cooperativeness': ['Q6A', 'Q8A', 'Q9A', 'Q10A', 'Q11A', 'Q12A', 'Q19A', 'Q23A', 'Q24A', 'Q34A', 'Q40A', 'Q50A', 'Q51A', 'Q52A', 'Q62A', 'Q65A', 'Q77A', 'Q80A', 'Q85A', 'Q97A', 'Q111A', 'Q114A', 'Q117A', 'Q123A', 'Q166A', 'Q172A'], 'Openness to Experience': ['Q7A', 'Q26A', 'Q27A', 'Q28A', 'Q43A', 'Q68A', 'Q75A', 'Q83A', 'Q84A', 'Q94A', 'Q100A', 'Q115A', 'Q138A', 'Q139A', 'Q154A', 'Q161A'], 'Adjustment': ['Q1A', 'Q8A', 'Q22A', 'Q24A', 'Q29A', 'Q31A', 'Q33A', 'Q34A', 'Q49A', 'Q57A', 'Q60A', 'Q62A', 'Q71A', 'Q96A', 'Q117A', 'Q123A', 'Q125A', 'Q129A', 'Q134A', 'Q136A', 'Q147A', 'Q148A', 'Q160A', 'Q162A', 'Q173A', 'Q175A', 'Q180A'], 'Ambition': ['Q1A', 'Q4A', 'Q6A', 'Q21A', 'Q22A', 'Q29A', 'Q30A', 'Q31A', 'Q33A', 'Q38A', 'Q49A', 'Q57A', 'Q71A', 'Q72A', 'Q88A', 'Q89A', 'Q96A', 'Q99A', 'Q101A', 'Q116A', 'Q117A', 'Q118A', 'Q123A', 'Q134A', 'Q145A', 'Q147A', 'Q152A', 'Q157A', 'Q160A', 'Q162A', 'Q163A', 'Q164A', 'Q175A'], 'Learning Approach': ['Q55A', 'Q58A', 'Q67A', 'Q68A', 'Q69A', 'Q106A', 'Q107A', 'Q110A']}\n",
    "# tp = pd.read_excel('temp.csv', index_col=None, header=None)\n",
    "tp = pd.read_csv('questions.csv')"
   ]
  },
  {
   "cell_type": "code",
   "execution_count": 3,
   "metadata": {},
   "outputs": [
    {
     "data": {
      "text/plain": [
       "array([[44.89287 ],\n",
       "       [45.74052 ],\n",
       "       [83.39206 ],\n",
       "       ...,\n",
       "       [80.598495],\n",
       "       [75.46759 ],\n",
       "       [78.954445]], dtype=float32)"
      ]
     },
     "execution_count": 3,
     "metadata": {},
     "output_type": "execute_result"
    }
   ],
   "source": [
    "trait = \"Openness\"\n",
    "\n",
    "model_Openness = tf.keras.models.load_model(trait + '.h5')\n",
    "\n",
    "selected_df = tp[questions_dict[trait]]\n",
    "x = selected_df.to_numpy()\n",
    "\n",
    "y_pred_Openness = model_Openness.predict(x)\n",
    "\n",
    "y_pred_Openness"
   ]
  },
  {
   "cell_type": "code",
   "execution_count": 4,
   "metadata": {},
   "outputs": [
    {
     "data": {
      "text/plain": [
       "array([[51.041485],\n",
       "       [42.816784],\n",
       "       [67.36463 ],\n",
       "       ...,\n",
       "       [72.667564],\n",
       "       [57.7515  ],\n",
       "       [65.707726]], dtype=float32)"
      ]
     },
     "execution_count": 4,
     "metadata": {},
     "output_type": "execute_result"
    }
   ],
   "source": [
    "trait = \"Cooperativeness\"\n",
    "\n",
    "model_Cooperativeness = tf.keras.models.load_model(trait + '.h5')\n",
    "\n",
    "selected_df = tp[questions_dict[trait]]\n",
    "x = selected_df.to_numpy()\n",
    "\n",
    "y_pred_Cooperativeness = model_Cooperativeness.predict(x)\n",
    "\n",
    "y_pred_Cooperativeness"
   ]
  },
  {
   "cell_type": "code",
   "execution_count": 5,
   "metadata": {},
   "outputs": [
    {
     "data": {
      "text/plain": [
       "array([[51.927998],\n",
       "       [73.865036],\n",
       "       [ 9.673351],\n",
       "       ...,\n",
       "       [33.756157],\n",
       "       [38.5367  ],\n",
       "       [47.359154]], dtype=float32)"
      ]
     },
     "execution_count": 5,
     "metadata": {},
     "output_type": "execute_result"
    }
   ],
   "source": [
    "trait = \"Adjustment\"\n",
    "\n",
    "model_Adjustment = tf.keras.models.load_model(trait + '.h5')\n",
    "\n",
    "selected_df = tp[questions_dict[trait]]\n",
    "x = selected_df.to_numpy()\n",
    "\n",
    "y_pred_Adjustment = model_Adjustment.predict(x)\n",
    "\n",
    "y_pred_Adjustment"
   ]
  },
  {
   "cell_type": "code",
   "execution_count": 6,
   "metadata": {},
   "outputs": [
    {
     "data": {
      "text/plain": [
       "array([[30.730444],\n",
       "       [43.251717],\n",
       "       [59.277084],\n",
       "       ...,\n",
       "       [61.72712 ],\n",
       "       [49.616444],\n",
       "       [74.18386 ]], dtype=float32)"
      ]
     },
     "execution_count": 6,
     "metadata": {},
     "output_type": "execute_result"
    }
   ],
   "source": [
    "trait = \"Persistence\"\n",
    "\n",
    "model_Persistence = tf.keras.models.load_model(trait + '.h5')\n",
    "\n",
    "selected_df = tp[questions_dict[trait]]\n",
    "x = selected_df.to_numpy()\n",
    "\n",
    "y_pred_Persistence = model_Persistence.predict(x)\n",
    "\n",
    "y_pred_Persistence"
   ]
  },
  {
   "cell_type": "code",
   "execution_count": 7,
   "metadata": {},
   "outputs": [
    {
     "data": {
      "text/plain": [
       "array([[69.3545 ],\n",
       "       [53.76764],\n",
       "       [50.40706],\n",
       "       ...,\n",
       "       [75.0148 ],\n",
       "       [68.10154],\n",
       "       [80.94595]], dtype=float32)"
      ]
     },
     "execution_count": 7,
     "metadata": {},
     "output_type": "execute_result"
    }
   ],
   "source": [
    "trait = \"Agreeableness\"\n",
    "\n",
    "model_Agreeableness = tf.keras.models.load_model(trait + '.h5')\n",
    "\n",
    "selected_df = tp[questions_dict[trait]]\n",
    "x = selected_df.to_numpy()\n",
    "\n",
    "y_pred_Agreeableness = model_Agreeableness.predict(x)\n",
    "\n",
    "y_pred_Agreeableness"
   ]
  },
  {
   "cell_type": "code",
   "execution_count": 8,
   "metadata": {},
   "outputs": [
    {
     "data": {
      "text/plain": [
       "array([[23.950096],\n",
       "       [65.04518 ],\n",
       "       [33.58827 ],\n",
       "       ...,\n",
       "       [59.561707],\n",
       "       [16.902851],\n",
       "       [49.255863]], dtype=float32)"
      ]
     },
     "execution_count": 8,
     "metadata": {},
     "output_type": "execute_result"
    }
   ],
   "source": [
    "trait = \"Ambition\"\n",
    "\n",
    "model_Ambition = tf.keras.models.load_model(trait + '.h5')\n",
    "\n",
    "selected_df = tp[questions_dict[trait]]\n",
    "x = selected_df.to_numpy()\n",
    "\n",
    "y_pred_Ambition = model_Ambition.predict(x)\n",
    "\n",
    "y_pred_Ambition"
   ]
  },
  {
   "cell_type": "code",
   "execution_count": 9,
   "metadata": {},
   "outputs": [
    {
     "data": {
      "text/plain": [
       "array([[39.372787],\n",
       "       [44.625725],\n",
       "       [87.0917  ],\n",
       "       ...,\n",
       "       [82.7108  ],\n",
       "       [60.554653],\n",
       "       [74.92161 ]], dtype=float32)"
      ]
     },
     "execution_count": 9,
     "metadata": {},
     "output_type": "execute_result"
    }
   ],
   "source": [
    "trait = \"Openness to Experience\"\n",
    "\n",
    "model_Openness_to_Experience = tf.keras.models.load_model(trait + '.h5')\n",
    "\n",
    "selected_df = tp[questions_dict[trait]]\n",
    "x = selected_df.to_numpy()\n",
    "\n",
    "y_pred_Openness_to_Experience = model_Openness_to_Experience.predict(x)\n",
    "\n",
    "y_pred_Openness_to_Experience"
   ]
  },
  {
   "cell_type": "code",
   "execution_count": 10,
   "metadata": {},
   "outputs": [
    {
     "data": {
      "text/plain": [
       "array([[ 7.0968184],\n",
       "       [56.702484 ],\n",
       "       [58.828323 ],\n",
       "       ...,\n",
       "       [81.0181   ],\n",
       "       [59.334747 ],\n",
       "       [57.466675 ]], dtype=float32)"
      ]
     },
     "execution_count": 10,
     "metadata": {},
     "output_type": "execute_result"
    }
   ],
   "source": [
    "trait = \"Learning Approach\"\n",
    "\n",
    "model_Learning_Approach = tf.keras.models.load_model(trait + '.h5')\n",
    "\n",
    "selected_df = tp[questions_dict[trait]]\n",
    "x = selected_df.to_numpy()\n",
    "\n",
    "y_pred_Learning_Approach = model_Learning_Approach.predict(x)\n",
    "\n",
    "y_pred_Learning_Approach"
   ]
  }
 ],
 "metadata": {
  "interpreter": {
   "hash": "96a5b2c8615b6af4330dccc0a175f9e1be44a5aebebe076415aefa8805d772c0"
  },
  "kernelspec": {
   "display_name": "Python 3.8.8 64-bit ('base': conda)",
   "language": "python",
   "name": "python3"
  },
  "language_info": {
   "codemirror_mode": {
    "name": "ipython",
    "version": 3
   },
   "file_extension": ".py",
   "mimetype": "text/x-python",
   "name": "python",
   "nbconvert_exporter": "python",
   "pygments_lexer": "ipython3",
   "version": "3.8.4"
  },
  "orig_nbformat": 4
 },
 "nbformat": 4,
 "nbformat_minor": 2
}
