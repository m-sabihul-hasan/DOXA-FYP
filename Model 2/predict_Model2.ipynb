{
 "cells": [
  {
   "cell_type": "code",
   "execution_count": 22,
   "metadata": {},
   "outputs": [],
   "source": [
    "import pandas as pd\n",
    "import numpy as np\n",
    "import tensorflow as tf\n",
    "from keras.models import load_model\n",
    "import ast\n",
    "pd.set_option(\"display.max_rows\", 500, \"display.max_columns\", 500)"
   ]
  },
  {
   "cell_type": "code",
   "execution_count": 23,
   "metadata": {},
   "outputs": [],
   "source": [
    "traits = [\"Openness\", \"Agreeableness\", \"Persistence\", \"Cooperativeness\", \"Openness to Experience\", \"Adjustment\", \"Ambition\", \"Learning Approach\"]\n",
    "\n",
    "f = open(\"CorrelatedQs.txt\", \"r\")\n",
    "questions_dict = f.readline()\n",
    "questions_dict = ast.literal_eval(questions_dict)\n",
    "\n",
    "# tp = pd.read_excel('temp.xlsx')\n",
    "tp = pd.read_csv('questions.csv')"
   ]
  },
  {
   "cell_type": "code",
   "execution_count": 24,
   "metadata": {},
   "outputs": [
    {
     "data": {
      "text/plain": [
       "array([[43.466732],\n",
       "       [43.621258],\n",
       "       [81.69764 ],\n",
       "       ...,\n",
       "       [79.248375],\n",
       "       [73.04343 ],\n",
       "       [76.70884 ]], dtype=float32)"
      ]
     },
     "execution_count": 24,
     "metadata": {},
     "output_type": "execute_result"
    }
   ],
   "source": [
    "trait = \"Openness\"\n",
    "\n",
    "model_Openness = tf.keras.models.load_model(trait + '.h5')\n",
    "\n",
    "selected_df = tp[questions_dict[trait]]\n",
    "x = selected_df.to_numpy()\n",
    "\n",
    "y_pred_Openness = model_Openness.predict(x)\n",
    "\n",
    "y_pred_Openness"
   ]
  },
  {
   "cell_type": "code",
   "execution_count": 25,
   "metadata": {},
   "outputs": [
    {
     "data": {
      "text/plain": [
       "array([[51.18527 ],\n",
       "       [43.09831 ],\n",
       "       [67.04421 ],\n",
       "       ...,\n",
       "       [72.57057 ],\n",
       "       [57.82095 ],\n",
       "       [65.507454]], dtype=float32)"
      ]
     },
     "execution_count": 25,
     "metadata": {},
     "output_type": "execute_result"
    }
   ],
   "source": [
    "trait = \"Cooperativeness\"\n",
    "\n",
    "model_Cooperativeness = tf.keras.models.load_model(trait + '.h5')\n",
    "\n",
    "selected_df = tp[questions_dict[trait]]\n",
    "x = selected_df.to_numpy()\n",
    "\n",
    "y_pred_Cooperativeness = model_Cooperativeness.predict(x)\n",
    "\n",
    "y_pred_Cooperativeness"
   ]
  },
  {
   "cell_type": "code",
   "execution_count": 26,
   "metadata": {},
   "outputs": [
    {
     "data": {
      "text/plain": [
       "array([[44.80728 ],\n",
       "       [66.20973 ],\n",
       "       [10.561227],\n",
       "       ...,\n",
       "       [29.683996],\n",
       "       [35.882275],\n",
       "       [43.42988 ]], dtype=float32)"
      ]
     },
     "execution_count": 26,
     "metadata": {},
     "output_type": "execute_result"
    }
   ],
   "source": [
    "trait = \"Adjustment\"\n",
    "\n",
    "model_Adjustment = tf.keras.models.load_model(trait + '.h5')\n",
    "\n",
    "selected_df = tp[questions_dict[trait]]\n",
    "x = selected_df.to_numpy()\n",
    "\n",
    "y_pred_Adjustment = model_Adjustment.predict(x)\n",
    "\n",
    "y_pred_Adjustment"
   ]
  },
  {
   "cell_type": "code",
   "execution_count": 27,
   "metadata": {},
   "outputs": [
    {
     "data": {
      "text/plain": [
       "array([[30.548325],\n",
       "       [43.232555],\n",
       "       [59.391586],\n",
       "       ...,\n",
       "       [61.682842],\n",
       "       [49.59503 ],\n",
       "       [74.05533 ]], dtype=float32)"
      ]
     },
     "execution_count": 27,
     "metadata": {},
     "output_type": "execute_result"
    }
   ],
   "source": [
    "trait = \"Persistence\"\n",
    "\n",
    "model_Persistence = tf.keras.models.load_model(trait + '.h5')\n",
    "\n",
    "selected_df = tp[questions_dict[trait]]\n",
    "x = selected_df.to_numpy()\n",
    "\n",
    "y_pred_Persistence = model_Persistence.predict(x)\n",
    "\n",
    "y_pred_Persistence"
   ]
  },
  {
   "cell_type": "code",
   "execution_count": 28,
   "metadata": {},
   "outputs": [
    {
     "data": {
      "text/plain": [
       "array([[68.1137  ],\n",
       "       [55.006634],\n",
       "       [48.11095 ],\n",
       "       ...,\n",
       "       [74.83115 ],\n",
       "       [69.473145],\n",
       "       [80.0913  ]], dtype=float32)"
      ]
     },
     "execution_count": 28,
     "metadata": {},
     "output_type": "execute_result"
    }
   ],
   "source": [
    "trait = \"Agreeableness\"\n",
    "\n",
    "model_Agreeableness = tf.keras.models.load_model(trait + '.h5')\n",
    "\n",
    "selected_df = tp[questions_dict[trait]]\n",
    "x = selected_df.to_numpy()\n",
    "\n",
    "y_pred_Agreeableness = model_Agreeableness.predict(x)\n",
    "\n",
    "y_pred_Agreeableness"
   ]
  },
  {
   "cell_type": "code",
   "execution_count": 29,
   "metadata": {},
   "outputs": [
    {
     "data": {
      "text/plain": [
       "array([[20.959023],\n",
       "       [63.81392 ],\n",
       "       [39.173687],\n",
       "       ...,\n",
       "       [59.432327],\n",
       "       [17.809113],\n",
       "       [49.685078]], dtype=float32)"
      ]
     },
     "execution_count": 29,
     "metadata": {},
     "output_type": "execute_result"
    }
   ],
   "source": [
    "trait = \"Ambition\"\n",
    "\n",
    "model_Ambition = tf.keras.models.load_model(trait + '.h5')\n",
    "\n",
    "selected_df = tp[questions_dict[trait]]\n",
    "x = selected_df.to_numpy()\n",
    "\n",
    "y_pred_Ambition = model_Ambition.predict(x)\n",
    "\n",
    "y_pred_Ambition"
   ]
  },
  {
   "cell_type": "code",
   "execution_count": 30,
   "metadata": {},
   "outputs": [
    {
     "data": {
      "text/plain": [
       "array([[39.827232],\n",
       "       [44.984016],\n",
       "       [87.12184 ],\n",
       "       ...,\n",
       "       [82.42549 ],\n",
       "       [61.32259 ],\n",
       "       [74.948906]], dtype=float32)"
      ]
     },
     "execution_count": 30,
     "metadata": {},
     "output_type": "execute_result"
    }
   ],
   "source": [
    "trait = \"Openness to Experience\"\n",
    "\n",
    "model_Openness_to_Experience = tf.keras.models.load_model(trait + '.h5')\n",
    "\n",
    "selected_df = tp[questions_dict[trait]]\n",
    "x = selected_df.to_numpy()\n",
    "\n",
    "y_pred_Openness_to_Experience = model_Openness_to_Experience.predict(x)\n",
    "\n",
    "y_pred_Openness_to_Experience"
   ]
  },
  {
   "cell_type": "code",
   "execution_count": 31,
   "metadata": {},
   "outputs": [
    {
     "data": {
      "text/plain": [
       "array([[ 4.5881014],\n",
       "       [57.15011  ],\n",
       "       [59.69416  ],\n",
       "       ...,\n",
       "       [81.578186 ],\n",
       "       [59.740063 ],\n",
       "       [57.899345 ]], dtype=float32)"
      ]
     },
     "execution_count": 31,
     "metadata": {},
     "output_type": "execute_result"
    }
   ],
   "source": [
    "trait = \"Learning Approach\"\n",
    "\n",
    "model_Learning_Approach = tf.keras.models.load_model(trait + '.h5')\n",
    "\n",
    "selected_df = tp[questions_dict[trait]]\n",
    "x = selected_df.to_numpy()\n",
    "\n",
    "y_pred_Learning_Approach = model_Learning_Approach.predict(x)\n",
    "\n",
    "y_pred_Learning_Approach"
   ]
  }
 ],
 "metadata": {
  "interpreter": {
   "hash": "96a5b2c8615b6af4330dccc0a175f9e1be44a5aebebe076415aefa8805d772c0"
  },
  "kernelspec": {
   "display_name": "Python 3.8.8 64-bit ('base': conda)",
   "language": "python",
   "name": "python3"
  },
  "language_info": {
   "codemirror_mode": {
    "name": "ipython",
    "version": 3
   },
   "file_extension": ".py",
   "mimetype": "text/x-python",
   "name": "python",
   "nbconvert_exporter": "python",
   "pygments_lexer": "ipython3",
   "version": "3.8.4"
  },
  "orig_nbformat": 4
 },
 "nbformat": 4,
 "nbformat_minor": 2
}
