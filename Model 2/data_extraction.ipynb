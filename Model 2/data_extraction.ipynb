{
 "cells": [
  {
   "cell_type": "code",
   "execution_count": 27,
   "metadata": {},
   "outputs": [],
   "source": [
    "import pandas as pd\n",
    "import math\n",
    "import numpy as np\n",
    "pd.set_option(\"display.max_rows\", 500, \"display.max_columns\", 500)"
   ]
  },
  {
   "cell_type": "code",
   "execution_count": 28,
   "metadata": {},
   "outputs": [
    {
     "data": {
      "text/plain": [
       "['Neutroticism',\n",
       " 'Extraversion',\n",
       " 'Openness',\n",
       " 'Agreeableness',\n",
       " 'Conscientiousness',\n",
       " 'Novelty Seeking',\n",
       " 'Harm avoidance',\n",
       " 'Reward dependence',\n",
       " 'Persistence',\n",
       " 'Self-directedness',\n",
       " 'Cooperativeness',\n",
       " 'Self-transcendence',\n",
       " 'Primary Trait Dimensions',\n",
       " 'Folk Scales',\n",
       " 'Special Purpose Scales',\n",
       " 'Honesty-Humility',\n",
       " 'Emotionality',\n",
       " 'eXtraversion',\n",
       " 'Agreeableness',\n",
       " 'Concienciousness',\n",
       " 'Openness to Experience',\n",
       " 'Scales',\n",
       " 'Extraversion',\n",
       " 'Agreeableness',\n",
       " 'Independence',\n",
       " 'Openness to Experince',\n",
       " 'Methodicalness',\n",
       " 'Industriousness',\n",
       " 'Adjustment',\n",
       " 'Ambition',\n",
       " 'Sociability',\n",
       " 'Interpersonal Sensitivity',\n",
       " 'Prudence',\n",
       " 'Learning Approach']"
      ]
     },
     "execution_count": 28,
     "metadata": {},
     "output_type": "execute_result"
    }
   ],
   "source": [
    "df = pd.read_csv('data_output.csv', low_memory=False)\n",
    "cols = df.columns\n",
    "categories = []\n",
    "for i in range (len(cols)):\n",
    "    if i == 0:\n",
    "        categories.append(cols[i][:np.char.find(cols[i], ':')])\n",
    "    else:\n",
    "        if cols[i][:np.char.find(cols[i], ':')] != cols[i-1][:np.char.find(cols[i-1], ':')]:\n",
    "            categories.append(cols[i][:np.char.find(cols[i], ':')])\n",
    "\n",
    "categories"
   ]
  },
  {
   "cell_type": "code",
   "execution_count": 29,
   "metadata": {},
   "outputs": [],
   "source": [
    "def my_round(i):\n",
    "    f = math.floor(i)\n",
    "    return f if i - f < 0.5 else f+1"
   ]
  },
  {
   "cell_type": "code",
   "execution_count": 30,
   "metadata": {},
   "outputs": [],
   "source": [
    "avg_list = []\n",
    "temp = []\n",
    "for index, row in df.iterrows():\n",
    "    temp_list = []\n",
    "    count = 0\n",
    "    for c in cols:\n",
    "        if c[:np.char.find(c, ':')] == categories[count]:\n",
    "            temp_list.append(row[c])\n",
    "        else:\n",
    "            temp.append(my_round(np.average(temp_list)))\n",
    "            temp_list = [row[c]]\n",
    "            count+=1\n",
    "    temp.append(my_round(np.average(temp_list)))\n",
    "    avg_list.append(temp)\n",
    "    temp = []\n",
    "\n",
    "traits_df = pd.DataFrame(avg_list, columns = categories)\n",
    "\n",
    "traits_df.to_csv(\"traits.csv\") \n",
    "traits_df"
   ]
  },
  {
   "cell_type": "code",
   "execution_count": 31,
   "metadata": {},
   "outputs": [],
   "source": [
    "data = pd.read_csv('data.csv', sep ='\\t', low_memory=False)\n",
    "data.head(10)\n",
    "\n",
    "for c in data.columns:\n",
    "    if c[-1:] == 'E' or  c[-1:] == 'I':\n",
    "        data.drop(c, axis = 1, inplace = True)\n",
    "\n",
    "data.to_csv('questions.csv')"
   ]
  }
 ],
 "metadata": {
  "interpreter": {
   "hash": "db60c623ecba8499f9fde8dfa94770af53334d1e88efbbc5af9e6918d94ce705"
  },
  "kernelspec": {
   "display_name": "Python 3.8.4 64-bit",
   "language": "python",
   "name": "python3"
  },
  "language_info": {
   "codemirror_mode": {
    "name": "ipython",
    "version": 3
   },
   "file_extension": ".py",
   "mimetype": "text/x-python",
   "name": "python",
   "nbconvert_exporter": "python",
   "pygments_lexer": "ipython3",
   "version": "3.8.4"
  },
  "orig_nbformat": 4
 },
 "nbformat": 4,
 "nbformat_minor": 2
}
